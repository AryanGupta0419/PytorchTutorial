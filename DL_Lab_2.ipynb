{
  "nbformat": 4,
  "nbformat_minor": 0,
  "metadata": {
    "colab": {
      "provenance": [],
      "authorship_tag": "ABX9TyMt2dPNaCJH+eWHZOsLudRh",
      "include_colab_link": true
    },
    "kernelspec": {
      "name": "python3",
      "display_name": "Python 3"
    },
    "language_info": {
      "name": "python"
    }
  },
  "cells": [
    {
      "cell_type": "markdown",
      "metadata": {
        "id": "view-in-github",
        "colab_type": "text"
      },
      "source": [
        "<a href=\"https://colab.research.google.com/github/AryanGupta0419/PytorchTutorial/blob/main/DL_Lab_2.ipynb\" target=\"_parent\"><img src=\"https://colab.research.google.com/assets/colab-badge.svg\" alt=\"Open In Colab\"/></a>"
      ]
    },
    {
      "cell_type": "code",
      "execution_count": null,
      "metadata": {
        "id": "lX5HFNgODecv"
      },
      "outputs": [],
      "source": [
        "from torchvision import datasets, transforms\n",
        "import matplotlib.pyplot as plt\n",
        "import seaborn as sns\n",
        "import numpy as np\n",
        "import torch\n",
        "import torch.nn as nn\n",
        "import torch.optim as optim\n",
        "import os\n",
        "import torch\n",
        "from torch.utils.data import DataLoader\n",
        "import pandas as pd\n",
        "from sklearn.preprocessing import StandardScaler\n",
        "from sklearn.model_selection import train_test_split\n",
        "import torch.nn.functional as F"
      ]
    },
    {
      "cell_type": "code",
      "source": [
        "!pip install opendatasets"
      ],
      "metadata": {
        "colab": {
          "base_uri": "https://localhost:8080/"
        },
        "id": "4taHR9sN6PIX",
        "outputId": "d1b9772c-d8d1-4ac4-ffae-9951bd71f65d"
      },
      "execution_count": null,
      "outputs": [
        {
          "output_type": "stream",
          "name": "stdout",
          "text": [
            "Collecting opendatasets\n",
            "  Downloading opendatasets-0.1.22-py3-none-any.whl.metadata (9.2 kB)\n",
            "Requirement already satisfied: tqdm in /usr/local/lib/python3.11/dist-packages (from opendatasets) (4.67.1)\n",
            "Requirement already satisfied: kaggle in /usr/local/lib/python3.11/dist-packages (from opendatasets) (1.6.17)\n",
            "Requirement already satisfied: click in /usr/local/lib/python3.11/dist-packages (from opendatasets) (8.1.8)\n",
            "Requirement already satisfied: six>=1.10 in /usr/local/lib/python3.11/dist-packages (from kaggle->opendatasets) (1.17.0)\n",
            "Requirement already satisfied: certifi>=2023.7.22 in /usr/local/lib/python3.11/dist-packages (from kaggle->opendatasets) (2025.1.31)\n",
            "Requirement already satisfied: python-dateutil in /usr/local/lib/python3.11/dist-packages (from kaggle->opendatasets) (2.8.2)\n",
            "Requirement already satisfied: requests in /usr/local/lib/python3.11/dist-packages (from kaggle->opendatasets) (2.32.3)\n",
            "Requirement already satisfied: python-slugify in /usr/local/lib/python3.11/dist-packages (from kaggle->opendatasets) (8.0.4)\n",
            "Requirement already satisfied: urllib3 in /usr/local/lib/python3.11/dist-packages (from kaggle->opendatasets) (2.3.0)\n",
            "Requirement already satisfied: bleach in /usr/local/lib/python3.11/dist-packages (from kaggle->opendatasets) (6.2.0)\n",
            "Requirement already satisfied: webencodings in /usr/local/lib/python3.11/dist-packages (from bleach->kaggle->opendatasets) (0.5.1)\n",
            "Requirement already satisfied: text-unidecode>=1.3 in /usr/local/lib/python3.11/dist-packages (from python-slugify->kaggle->opendatasets) (1.3)\n",
            "Requirement already satisfied: charset-normalizer<4,>=2 in /usr/local/lib/python3.11/dist-packages (from requests->kaggle->opendatasets) (3.4.1)\n",
            "Requirement already satisfied: idna<4,>=2.5 in /usr/local/lib/python3.11/dist-packages (from requests->kaggle->opendatasets) (3.10)\n",
            "Downloading opendatasets-0.1.22-py3-none-any.whl (15 kB)\n",
            "Installing collected packages: opendatasets\n",
            "Successfully installed opendatasets-0.1.22\n"
          ]
        }
      ]
    },
    {
      "cell_type": "code",
      "source": [
        "import opendatasets as od\n",
        "dataset_url = 'https://www.kaggle.com/datasets/samuelcortinhas/house-price-prediction-seattle'\n",
        "od.download(dataset_url)"
      ],
      "metadata": {
        "colab": {
          "base_uri": "https://localhost:8080/"
        },
        "id": "b5D36dkU4Uyf",
        "outputId": "78112079-085f-4af9-fa66-c520dde2d1c8"
      },
      "execution_count": null,
      "outputs": [
        {
          "output_type": "stream",
          "name": "stdout",
          "text": [
            "Dataset URL: https://www.kaggle.com/datasets/samuelcortinhas/house-price-prediction-seattle\n",
            "Downloading house-price-prediction-seattle.zip to ./house-price-prediction-seattle\n"
          ]
        },
        {
          "output_type": "stream",
          "name": "stderr",
          "text": [
            "100%|██████████| 25.9k/25.9k [00:00<00:00, 22.0MB/s]"
          ]
        },
        {
          "output_type": "stream",
          "name": "stdout",
          "text": [
            "\n"
          ]
        },
        {
          "output_type": "stream",
          "name": "stderr",
          "text": [
            "\n"
          ]
        }
      ]
    },
    {
      "cell_type": "markdown",
      "source": [
        "IMPORTING DATASET"
      ],
      "metadata": {
        "id": "MPEg5gwEFNDe"
      }
    },
    {
      "cell_type": "code",
      "source": [
        "train_path = \"/content/house-price-prediction-seattle/train.csv\"\n",
        "test_path = \"/content/house-price-prediction-seattle/test.csv\"\n",
        "\n",
        "test_df = pd.read_csv(test_path)\n",
        "train_df = pd.read_csv(train_path)\n",
        "\n",
        "df = pd.concat([train_df, test_df], axis=0)\n",
        "\n",
        "def normalizecol(col):\n",
        "  mean = df[col].mean()\n",
        "  std = df[col].std()\n",
        "  df[col] = (df[col] - mean)/std\n",
        "\n",
        "\n",
        "\n",
        "\n",
        "feature = df.columns[:-1]\n",
        "target = df.columns[-1]\n",
        "\n",
        "\n",
        "df.dropna(inplace=True)\n",
        "pricemean = df['price'].mean()\n",
        "pricestd = df['price'].std()\n",
        "\n",
        "\n",
        "df = df.drop(['size_units','lot_size_units','zip_code'], axis = 1)\n",
        "\n",
        "for col in df.columns:\n",
        "  normalizecol(col)\n",
        "\n",
        "\n",
        "\n",
        "x= df.drop('price', axis = 1)\n",
        "y=df['price']\n",
        "\n",
        "X_train, X_test, y_train, y_test = train_test_split(x, y, test_size=0.2, random_state=42)\n",
        "\n",
        "scaler = StandardScaler()\n",
        "X_train = scaler.fit_transform(X_train)\n",
        "X_test = scaler.transform(X_test)\n",
        "\n",
        "\n",
        "X_train_tensor = torch.tensor(X_train, dtype=torch.float32)\n",
        "y_train_tensor = torch.tensor(y_train, dtype=torch.float32).view(-1, 1)\n",
        "X_test_tensor = torch.tensor(X_test, dtype=torch.float32)\n",
        "y_test_tensor = torch.tensor(y_test, dtype=torch.float32).view(-1, 1)\n",
        "\n",
        "df.head()\n",
        "\n"
      ],
      "metadata": {
        "colab": {
          "base_uri": "https://localhost:8080/",
          "height": 201
        },
        "id": "xvyO30A0Dnac",
        "outputId": "d8551850-683d-4e19-ff3b-cc618d3206d4"
      },
      "execution_count": null,
      "outputs": [
        {
          "output_type": "execute_result",
          "data": {
            "text/plain": [
              "      beds     baths      size  lot_size     price\n",
              "0 -0.11679  0.192480  0.735757  0.774963 -0.260002\n",
              "1  0.73359 -0.302166  0.353275 -1.435151 -0.132555\n",
              "2  0.73359  0.687126  0.134713 -0.041717 -0.095383\n",
              "3  0.73359  0.687126  2.058055  0.471056  0.966678\n",
              "5 -0.96717 -0.302166 -0.794174 -1.434897 -0.318416"
            ],
            "text/html": [
              "\n",
              "  <div id=\"df-b1cbbf78-10d8-4100-8fd3-97475166430f\" class=\"colab-df-container\">\n",
              "    <div>\n",
              "<style scoped>\n",
              "    .dataframe tbody tr th:only-of-type {\n",
              "        vertical-align: middle;\n",
              "    }\n",
              "\n",
              "    .dataframe tbody tr th {\n",
              "        vertical-align: top;\n",
              "    }\n",
              "\n",
              "    .dataframe thead th {\n",
              "        text-align: right;\n",
              "    }\n",
              "</style>\n",
              "<table border=\"1\" class=\"dataframe\">\n",
              "  <thead>\n",
              "    <tr style=\"text-align: right;\">\n",
              "      <th></th>\n",
              "      <th>beds</th>\n",
              "      <th>baths</th>\n",
              "      <th>size</th>\n",
              "      <th>lot_size</th>\n",
              "      <th>price</th>\n",
              "    </tr>\n",
              "  </thead>\n",
              "  <tbody>\n",
              "    <tr>\n",
              "      <th>0</th>\n",
              "      <td>-0.11679</td>\n",
              "      <td>0.192480</td>\n",
              "      <td>0.735757</td>\n",
              "      <td>0.774963</td>\n",
              "      <td>-0.260002</td>\n",
              "    </tr>\n",
              "    <tr>\n",
              "      <th>1</th>\n",
              "      <td>0.73359</td>\n",
              "      <td>-0.302166</td>\n",
              "      <td>0.353275</td>\n",
              "      <td>-1.435151</td>\n",
              "      <td>-0.132555</td>\n",
              "    </tr>\n",
              "    <tr>\n",
              "      <th>2</th>\n",
              "      <td>0.73359</td>\n",
              "      <td>0.687126</td>\n",
              "      <td>0.134713</td>\n",
              "      <td>-0.041717</td>\n",
              "      <td>-0.095383</td>\n",
              "    </tr>\n",
              "    <tr>\n",
              "      <th>3</th>\n",
              "      <td>0.73359</td>\n",
              "      <td>0.687126</td>\n",
              "      <td>2.058055</td>\n",
              "      <td>0.471056</td>\n",
              "      <td>0.966678</td>\n",
              "    </tr>\n",
              "    <tr>\n",
              "      <th>5</th>\n",
              "      <td>-0.96717</td>\n",
              "      <td>-0.302166</td>\n",
              "      <td>-0.794174</td>\n",
              "      <td>-1.434897</td>\n",
              "      <td>-0.318416</td>\n",
              "    </tr>\n",
              "  </tbody>\n",
              "</table>\n",
              "</div>\n",
              "    <div class=\"colab-df-buttons\">\n",
              "\n",
              "  <div class=\"colab-df-container\">\n",
              "    <button class=\"colab-df-convert\" onclick=\"convertToInteractive('df-b1cbbf78-10d8-4100-8fd3-97475166430f')\"\n",
              "            title=\"Convert this dataframe to an interactive table.\"\n",
              "            style=\"display:none;\">\n",
              "\n",
              "  <svg xmlns=\"http://www.w3.org/2000/svg\" height=\"24px\" viewBox=\"0 -960 960 960\">\n",
              "    <path d=\"M120-120v-720h720v720H120Zm60-500h600v-160H180v160Zm220 220h160v-160H400v160Zm0 220h160v-160H400v160ZM180-400h160v-160H180v160Zm440 0h160v-160H620v160ZM180-180h160v-160H180v160Zm440 0h160v-160H620v160Z\"/>\n",
              "  </svg>\n",
              "    </button>\n",
              "\n",
              "  <style>\n",
              "    .colab-df-container {\n",
              "      display:flex;\n",
              "      gap: 12px;\n",
              "    }\n",
              "\n",
              "    .colab-df-convert {\n",
              "      background-color: #E8F0FE;\n",
              "      border: none;\n",
              "      border-radius: 50%;\n",
              "      cursor: pointer;\n",
              "      display: none;\n",
              "      fill: #1967D2;\n",
              "      height: 32px;\n",
              "      padding: 0 0 0 0;\n",
              "      width: 32px;\n",
              "    }\n",
              "\n",
              "    .colab-df-convert:hover {\n",
              "      background-color: #E2EBFA;\n",
              "      box-shadow: 0px 1px 2px rgba(60, 64, 67, 0.3), 0px 1px 3px 1px rgba(60, 64, 67, 0.15);\n",
              "      fill: #174EA6;\n",
              "    }\n",
              "\n",
              "    .colab-df-buttons div {\n",
              "      margin-bottom: 4px;\n",
              "    }\n",
              "\n",
              "    [theme=dark] .colab-df-convert {\n",
              "      background-color: #3B4455;\n",
              "      fill: #D2E3FC;\n",
              "    }\n",
              "\n",
              "    [theme=dark] .colab-df-convert:hover {\n",
              "      background-color: #434B5C;\n",
              "      box-shadow: 0px 1px 3px 1px rgba(0, 0, 0, 0.15);\n",
              "      filter: drop-shadow(0px 1px 2px rgba(0, 0, 0, 0.3));\n",
              "      fill: #FFFFFF;\n",
              "    }\n",
              "  </style>\n",
              "\n",
              "    <script>\n",
              "      const buttonEl =\n",
              "        document.querySelector('#df-b1cbbf78-10d8-4100-8fd3-97475166430f button.colab-df-convert');\n",
              "      buttonEl.style.display =\n",
              "        google.colab.kernel.accessAllowed ? 'block' : 'none';\n",
              "\n",
              "      async function convertToInteractive(key) {\n",
              "        const element = document.querySelector('#df-b1cbbf78-10d8-4100-8fd3-97475166430f');\n",
              "        const dataTable =\n",
              "          await google.colab.kernel.invokeFunction('convertToInteractive',\n",
              "                                                    [key], {});\n",
              "        if (!dataTable) return;\n",
              "\n",
              "        const docLinkHtml = 'Like what you see? Visit the ' +\n",
              "          '<a target=\"_blank\" href=https://colab.research.google.com/notebooks/data_table.ipynb>data table notebook</a>'\n",
              "          + ' to learn more about interactive tables.';\n",
              "        element.innerHTML = '';\n",
              "        dataTable['output_type'] = 'display_data';\n",
              "        await google.colab.output.renderOutput(dataTable, element);\n",
              "        const docLink = document.createElement('div');\n",
              "        docLink.innerHTML = docLinkHtml;\n",
              "        element.appendChild(docLink);\n",
              "      }\n",
              "    </script>\n",
              "  </div>\n",
              "\n",
              "\n",
              "<div id=\"df-09e0de8b-cd7f-433e-9bfc-ddd0418d1ea0\">\n",
              "  <button class=\"colab-df-quickchart\" onclick=\"quickchart('df-09e0de8b-cd7f-433e-9bfc-ddd0418d1ea0')\"\n",
              "            title=\"Suggest charts\"\n",
              "            style=\"display:none;\">\n",
              "\n",
              "<svg xmlns=\"http://www.w3.org/2000/svg\" height=\"24px\"viewBox=\"0 0 24 24\"\n",
              "     width=\"24px\">\n",
              "    <g>\n",
              "        <path d=\"M19 3H5c-1.1 0-2 .9-2 2v14c0 1.1.9 2 2 2h14c1.1 0 2-.9 2-2V5c0-1.1-.9-2-2-2zM9 17H7v-7h2v7zm4 0h-2V7h2v10zm4 0h-2v-4h2v4z\"/>\n",
              "    </g>\n",
              "</svg>\n",
              "  </button>\n",
              "\n",
              "<style>\n",
              "  .colab-df-quickchart {\n",
              "      --bg-color: #E8F0FE;\n",
              "      --fill-color: #1967D2;\n",
              "      --hover-bg-color: #E2EBFA;\n",
              "      --hover-fill-color: #174EA6;\n",
              "      --disabled-fill-color: #AAA;\n",
              "      --disabled-bg-color: #DDD;\n",
              "  }\n",
              "\n",
              "  [theme=dark] .colab-df-quickchart {\n",
              "      --bg-color: #3B4455;\n",
              "      --fill-color: #D2E3FC;\n",
              "      --hover-bg-color: #434B5C;\n",
              "      --hover-fill-color: #FFFFFF;\n",
              "      --disabled-bg-color: #3B4455;\n",
              "      --disabled-fill-color: #666;\n",
              "  }\n",
              "\n",
              "  .colab-df-quickchart {\n",
              "    background-color: var(--bg-color);\n",
              "    border: none;\n",
              "    border-radius: 50%;\n",
              "    cursor: pointer;\n",
              "    display: none;\n",
              "    fill: var(--fill-color);\n",
              "    height: 32px;\n",
              "    padding: 0;\n",
              "    width: 32px;\n",
              "  }\n",
              "\n",
              "  .colab-df-quickchart:hover {\n",
              "    background-color: var(--hover-bg-color);\n",
              "    box-shadow: 0 1px 2px rgba(60, 64, 67, 0.3), 0 1px 3px 1px rgba(60, 64, 67, 0.15);\n",
              "    fill: var(--button-hover-fill-color);\n",
              "  }\n",
              "\n",
              "  .colab-df-quickchart-complete:disabled,\n",
              "  .colab-df-quickchart-complete:disabled:hover {\n",
              "    background-color: var(--disabled-bg-color);\n",
              "    fill: var(--disabled-fill-color);\n",
              "    box-shadow: none;\n",
              "  }\n",
              "\n",
              "  .colab-df-spinner {\n",
              "    border: 2px solid var(--fill-color);\n",
              "    border-color: transparent;\n",
              "    border-bottom-color: var(--fill-color);\n",
              "    animation:\n",
              "      spin 1s steps(1) infinite;\n",
              "  }\n",
              "\n",
              "  @keyframes spin {\n",
              "    0% {\n",
              "      border-color: transparent;\n",
              "      border-bottom-color: var(--fill-color);\n",
              "      border-left-color: var(--fill-color);\n",
              "    }\n",
              "    20% {\n",
              "      border-color: transparent;\n",
              "      border-left-color: var(--fill-color);\n",
              "      border-top-color: var(--fill-color);\n",
              "    }\n",
              "    30% {\n",
              "      border-color: transparent;\n",
              "      border-left-color: var(--fill-color);\n",
              "      border-top-color: var(--fill-color);\n",
              "      border-right-color: var(--fill-color);\n",
              "    }\n",
              "    40% {\n",
              "      border-color: transparent;\n",
              "      border-right-color: var(--fill-color);\n",
              "      border-top-color: var(--fill-color);\n",
              "    }\n",
              "    60% {\n",
              "      border-color: transparent;\n",
              "      border-right-color: var(--fill-color);\n",
              "    }\n",
              "    80% {\n",
              "      border-color: transparent;\n",
              "      border-right-color: var(--fill-color);\n",
              "      border-bottom-color: var(--fill-color);\n",
              "    }\n",
              "    90% {\n",
              "      border-color: transparent;\n",
              "      border-bottom-color: var(--fill-color);\n",
              "    }\n",
              "  }\n",
              "</style>\n",
              "\n",
              "  <script>\n",
              "    async function quickchart(key) {\n",
              "      const quickchartButtonEl =\n",
              "        document.querySelector('#' + key + ' button');\n",
              "      quickchartButtonEl.disabled = true;  // To prevent multiple clicks.\n",
              "      quickchartButtonEl.classList.add('colab-df-spinner');\n",
              "      try {\n",
              "        const charts = await google.colab.kernel.invokeFunction(\n",
              "            'suggestCharts', [key], {});\n",
              "      } catch (error) {\n",
              "        console.error('Error during call to suggestCharts:', error);\n",
              "      }\n",
              "      quickchartButtonEl.classList.remove('colab-df-spinner');\n",
              "      quickchartButtonEl.classList.add('colab-df-quickchart-complete');\n",
              "    }\n",
              "    (() => {\n",
              "      let quickchartButtonEl =\n",
              "        document.querySelector('#df-09e0de8b-cd7f-433e-9bfc-ddd0418d1ea0 button');\n",
              "      quickchartButtonEl.style.display =\n",
              "        google.colab.kernel.accessAllowed ? 'block' : 'none';\n",
              "    })();\n",
              "  </script>\n",
              "</div>\n",
              "\n",
              "    </div>\n",
              "  </div>\n"
            ],
            "application/vnd.google.colaboratory.intrinsic+json": {
              "type": "dataframe",
              "variable_name": "df",
              "summary": "{\n  \"name\": \"df\",\n  \"rows\": 2097,\n  \"fields\": [\n    {\n      \"column\": \"beds\",\n      \"properties\": {\n        \"dtype\": \"number\",\n        \"std\": 1.000000000000018,\n        \"min\": -1.8175502543942734,\n        \"max\": 10.087768881818818,\n        \"num_unique_values\": 11,\n        \"samples\": [\n          2.434349437110402,\n          -0.1167903777924032,\n          4.135109313712272\n        ],\n        \"semantic_type\": \"\",\n        \"description\": \"\"\n      }\n    },\n    {\n      \"column\": \"baths\",\n      \"properties\": {\n        \"dtype\": \"number\",\n        \"std\": 0.9999999999999926,\n        \"min\": -1.786104281459352,\n        \"max\": 6.622880336837589,\n        \"num_unique_values\": 16,\n        \"samples\": [\n          0.1924803346105166,\n          -0.30216581940695053,\n          -0.7968119734244177\n        ],\n        \"semantic_type\": \"\",\n        \"description\": \"\"\n      }\n    },\n    {\n      \"column\": \"size\",\n      \"properties\": {\n        \"dtype\": \"number\",\n        \"std\": 1.0000000000000007,\n        \"min\": -1.8214136685775346,\n        \"max\": 9.937202331167336,\n        \"num_unique_values\": 799,\n        \"samples\": [\n          -0.7537400782661278,\n          -0.5504777570809469,\n          0.7248293871293007\n        ],\n        \"semantic_type\": \"\",\n        \"description\": \"\"\n      }\n    },\n    {\n      \"column\": \"lot_size\",\n      \"properties\": {\n        \"dtype\": \"number\",\n        \"std\": 0.9999999999999998,\n        \"min\": -1.4351807892574873,\n        \"max\": 2.2477117343159017,\n        \"num_unique_values\": 1134,\n        \"samples\": [\n          0.5097354729877007,\n          -1.4351034312636595,\n          -1.1847729632373365\n        ],\n        \"semantic_type\": \"\",\n        \"description\": \"\"\n      }\n    },\n    {\n      \"column\": \"price\",\n      \"properties\": {\n        \"dtype\": \"number\",\n        \"std\": 1.0000000000000022,\n        \"min\": -0.9354730851269433,\n        \"max\": 25.447182609040293,\n        \"num_unique_values\": 773,\n        \"samples\": [\n          -0.226547410803984,\n          -0.06139693536245565,\n          -0.33700174807677463\n        ],\n        \"semantic_type\": \"\",\n        \"description\": \"\"\n      }\n    }\n  ]\n}"
            }
          },
          "metadata": {},
          "execution_count": 17
        }
      ]
    },
    {
      "cell_type": "code",
      "source": [
        "input_size = X_train.shape[1]\n",
        "device = torch.device(\"cuda\" if torch.cuda.is_available() else \"cpu\")\n",
        "\n",
        "class NeuralNetwork(nn.Module):\n",
        "    def __init__(self):\n",
        "        super().__init__()\n",
        "        self.fc1 = nn.Linear(input_size,64)\n",
        "        self.fc2 = nn.Linear(64,32)\n",
        "        self.fc3 = nn.Linear(32,1)\n",
        "        self.relu = nn.ReLU()\n",
        "\n",
        "\n",
        "    def forward(self, x):\n",
        "        x = self.relu(self.fc1(x))\n",
        "        x = self.relu(self.fc2(x))\n",
        "        x = self.fc3(x)\n",
        "        return x\n",
        "\n",
        "model = NeuralNetwork().to(device)\n",
        "\n",
        "\n",
        "criteria = nn.L1Loss()\n",
        "optimizer = optim.Adam(model.parameters(), lr=0.001)"
      ],
      "metadata": {
        "id": "zWRhIkfEGZ2p"
      },
      "execution_count": null,
      "outputs": []
    },
    {
      "cell_type": "code",
      "source": [
        "epoch = 10000\n",
        "\n",
        "for epochs in range(epoch):\n",
        "  model.train()\n",
        "  optimizer.zero_grad()\n",
        "\n",
        "  output = model(X_train_tensor)\n",
        "  loss = criteria(output, y_train_tensor)\n",
        "  loss.backward()\n",
        "  optimizer.step()\n",
        "\n",
        "  if((epochs+1)%500 ==0):\n",
        "    print(f\"Epoch: {epochs+1}, Loss: {loss.item()}\")\n",
        "\n"
      ],
      "metadata": {
        "colab": {
          "base_uri": "https://localhost:8080/"
        },
        "id": "R2eazdnVHOGu",
        "outputId": "53f92f71-ddf4-43cf-cfa2-70fe0128eefe"
      },
      "execution_count": null,
      "outputs": [
        {
          "output_type": "stream",
          "name": "stdout",
          "text": [
            "Epoch: 500, Loss: 0.23271939158439636\n",
            "Epoch: 1000, Loss: 0.22258597612380981\n",
            "Epoch: 1500, Loss: 0.215470552444458\n",
            "Epoch: 2000, Loss: 0.2095026671886444\n",
            "Epoch: 2500, Loss: 0.20258210599422455\n",
            "Epoch: 3000, Loss: 0.19833171367645264\n",
            "Epoch: 3500, Loss: 0.19331994652748108\n",
            "Epoch: 4000, Loss: 0.1900993287563324\n",
            "Epoch: 4500, Loss: 0.18724852800369263\n",
            "Epoch: 5000, Loss: 0.18553172051906586\n",
            "Epoch: 5500, Loss: 0.18308474123477936\n",
            "Epoch: 6000, Loss: 0.18138636648654938\n",
            "Epoch: 6500, Loss: 0.1796572059392929\n",
            "Epoch: 7000, Loss: 0.17812371253967285\n",
            "Epoch: 7500, Loss: 0.17795179784297943\n",
            "Epoch: 8000, Loss: 0.17655421793460846\n",
            "Epoch: 8500, Loss: 0.1750970184803009\n",
            "Epoch: 9000, Loss: 0.17347201704978943\n",
            "Epoch: 9500, Loss: 0.1743299514055252\n",
            "Epoch: 10000, Loss: 0.1738814413547516\n"
          ]
        }
      ]
    },
    {
      "cell_type": "code",
      "source": [
        "model.eval()\n",
        "with torch.no_grad():\n",
        "    test_output = model(X_test_tensor)\n",
        "    test_loss = criteria(test_output, y_test_tensor)\n",
        "\n",
        "    test_output_actual = (test_output * pricestd) + pricemean\n",
        "    y_test_actual = (y_test_tensor * pricestd) + pricemean\n",
        "\n",
        "for i in range(5):  # Print first 5 examples\n",
        "    print(f\"Predicted Price: {test_output_actual[i].item():,.2f}, Actual Price: {y_test_actual[i].item():,.2f}\")\n",
        "    mse = criteria(test_output_actual[i], y_test_actual[i])\n",
        "\n",
        "    mse = F.mse_loss(test_output_actual, y_test_actual)\n",
        "    rmse = torch.sqrt(mse)\n",
        "\n",
        "    mape = torch.mean(torch.abs((test_output_actual - y_test_actual) / y_test_actual))\n",
        "\n",
        "    accuracy = 1 - mape\n",
        "\n",
        "\n",
        "print(f\"Test Loss: {test_loss.item()}\")\n",
        "print(accuracy.item()*100,\"%\")\n",
        "\n"
      ],
      "metadata": {
        "colab": {
          "base_uri": "https://localhost:8080/"
        },
        "id": "_nuNPkbJHpEP",
        "outputId": "5c7a4b5c-8210-4f8d-d183-58913a71c061"
      },
      "execution_count": null,
      "outputs": [
        {
          "output_type": "stream",
          "name": "stdout",
          "text": [
            "Predicted Price: 909,719.12, Actual Price: 805,000.00\n",
            "Predicted Price: 951,211.38, Actual Price: 1,070,000.00\n",
            "Predicted Price: 1,746,719.88, Actual Price: 1,750,000.00\n",
            "Predicted Price: 1,066,442.75, Actual Price: 949,000.00\n",
            "Predicted Price: 882,948.75, Actual Price: 865,000.00\n",
            "Test Loss: 0.3356108069419861\n",
            "75.12199878692627 %\n"
          ]
        }
      ]
    },
    {
      "cell_type": "code",
      "source": [
        "criteria1 = nn.MSELoss()\n",
        "optimizer1 = optim.Adam(model.parameters(), lr=0.001)\n",
        "\n",
        "model1 = NeuralNetwork().to(device)\n",
        "\n",
        "epoch = 10000\n",
        "\n",
        "for epochs in range(epoch):\n",
        "  model1.train()\n",
        "  optimizer1.zero_grad()\n",
        "\n",
        "  output = model1(X_train_tensor)\n",
        "  loss = criteria1(output, y_train_tensor)\n",
        "  loss.backward()\n",
        "  optimizer1.step()\n",
        "\n",
        "  if((epochs+1)%500 ==0):\n",
        "    print(f\"Epoch: {epochs+1}, Loss: {loss.item()}\")\n",
        "\n"
      ],
      "metadata": {
        "colab": {
          "base_uri": "https://localhost:8080/"
        },
        "id": "urMtQzvgO8J_",
        "outputId": "64f5defc-7844-4c3d-b54f-970264f9edba"
      },
      "execution_count": null,
      "outputs": [
        {
          "output_type": "stream",
          "name": "stdout",
          "text": [
            "Epoch: 500, Loss: 0.7449046969413757\n",
            "Epoch: 1000, Loss: 0.7449046969413757\n",
            "Epoch: 1500, Loss: 0.7449046969413757\n",
            "Epoch: 2000, Loss: 0.7449046969413757\n",
            "Epoch: 2500, Loss: 0.7449046969413757\n",
            "Epoch: 3000, Loss: 0.7449046969413757\n",
            "Epoch: 3500, Loss: 0.7449046969413757\n",
            "Epoch: 4000, Loss: 0.7449046969413757\n",
            "Epoch: 4500, Loss: 0.7449046969413757\n",
            "Epoch: 5000, Loss: 0.7449046969413757\n",
            "Epoch: 5500, Loss: 0.7449046969413757\n",
            "Epoch: 6000, Loss: 0.7449046969413757\n",
            "Epoch: 6500, Loss: 0.7449046969413757\n",
            "Epoch: 7000, Loss: 0.7449046969413757\n",
            "Epoch: 7500, Loss: 0.7449046969413757\n",
            "Epoch: 8000, Loss: 0.7449046969413757\n",
            "Epoch: 8500, Loss: 0.7449046969413757\n",
            "Epoch: 9000, Loss: 0.7449046969413757\n",
            "Epoch: 9500, Loss: 0.7449046969413757\n",
            "Epoch: 10000, Loss: 0.7449046969413757\n"
          ]
        }
      ]
    },
    {
      "cell_type": "code",
      "source": [
        "model1.eval()\n",
        "with torch.inference_mode():\n",
        "    test_output = model1(X_test_tensor)\n",
        "    test_loss = criteria(test_output, y_test_tensor)\n",
        "\n",
        "    test_output_actual = (test_output * pricestd) + pricemean\n",
        "    y_test_actual = (y_test_tensor * pricestd) + pricemean\n",
        "\n",
        "for i in range(5):  # Print first 5 examples\n",
        "    print(f\"Predicted Price: {test_output_actual[i].item():,.2f}, Actual Price: {y_test_actual[i].item():,.2f}\")\n",
        "    mse = criteria1(test_output_actual[i], y_test_actual[i])\n",
        "\n",
        "    mse = F.mse_loss(test_output_actual, y_test_actual)\n",
        "    rmse = torch.sqrt(mse)\n",
        "\n",
        "    mape = torch.mean(torch.abs((test_output_actual - y_test_actual) / y_test_actual))\n",
        "\n",
        "    accuracy = 1 - mape\n",
        "\n",
        "\n",
        "print(f\"Test Loss: {test_loss.item()}\")\n",
        "print(accuracy.item()*100,\"%\")\n",
        "\n"
      ],
      "metadata": {
        "colab": {
          "base_uri": "https://localhost:8080/"
        },
        "id": "jn-pvCzyT5Ob",
        "outputId": "775fe3e7-5a1f-4e4d-f1c4-11c634901a9a"
      },
      "execution_count": null,
      "outputs": [
        {
          "output_type": "stream",
          "name": "stdout",
          "text": [
            "Predicted Price: 1,072,270.50, Actual Price: 805,000.00\n",
            "Predicted Price: 1,125,612.88, Actual Price: 1,070,000.00\n",
            "Predicted Price: 1,088,773.75, Actual Price: 1,750,000.00\n",
            "Predicted Price: 1,049,425.75, Actual Price: 949,000.00\n",
            "Predicted Price: 1,071,900.75, Actual Price: 865,000.00\n",
            "Test Loss: 1.9098358154296875\n",
            "54.06808853149414 %\n"
          ]
        }
      ]
    },
    {
      "cell_type": "code",
      "source": [],
      "metadata": {
        "id": "KqlQniLZ6jt_"
      },
      "execution_count": null,
      "outputs": []
    }
  ]
}