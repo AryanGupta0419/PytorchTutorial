{
  "nbformat": 4,
  "nbformat_minor": 0,
  "metadata": {
    "colab": {
      "provenance": [],
      "gpuType": "T4",
      "authorship_tag": "ABX9TyMnqA+YNUpaOMjUfokSPLGn",
      "include_colab_link": true
    },
    "kernelspec": {
      "name": "python3",
      "display_name": "Python 3"
    },
    "language_info": {
      "name": "python"
    },
    "accelerator": "GPU"
  },
  "cells": [
    {
      "cell_type": "markdown",
      "metadata": {
        "id": "view-in-github",
        "colab_type": "text"
      },
      "source": [
        "<a href=\"https://colab.research.google.com/github/AryanGupta0419/PytorchTutorial/blob/main/DLLAB7.ipynb\" target=\"_parent\"><img src=\"https://colab.research.google.com/assets/colab-badge.svg\" alt=\"Open In Colab\"/></a>"
      ]
    },
    {
      "cell_type": "code",
      "execution_count": 4,
      "metadata": {
        "colab": {
          "base_uri": "https://localhost:8080/"
        },
        "id": "hVCyNbi79wml",
        "outputId": "43a2c5d5-213b-47ca-c5cd-4302d21ad27c"
      },
      "outputs": [
        {
          "output_type": "stream",
          "name": "stdout",
          "text": [
            "Requirement already satisfied: kaggle in /usr/local/lib/python3.11/dist-packages (1.7.4.2)\n",
            "Requirement already satisfied: bleach in /usr/local/lib/python3.11/dist-packages (from kaggle) (6.2.0)\n",
            "Requirement already satisfied: certifi>=14.05.14 in /usr/local/lib/python3.11/dist-packages (from kaggle) (2025.1.31)\n",
            "Requirement already satisfied: charset-normalizer in /usr/local/lib/python3.11/dist-packages (from kaggle) (3.4.1)\n",
            "Requirement already satisfied: idna in /usr/local/lib/python3.11/dist-packages (from kaggle) (3.10)\n",
            "Requirement already satisfied: protobuf in /usr/local/lib/python3.11/dist-packages (from kaggle) (5.29.3)\n",
            "Requirement already satisfied: python-dateutil>=2.5.3 in /usr/local/lib/python3.11/dist-packages (from kaggle) (2.8.2)\n",
            "Requirement already satisfied: python-slugify in /usr/local/lib/python3.11/dist-packages (from kaggle) (8.0.4)\n",
            "Requirement already satisfied: requests in /usr/local/lib/python3.11/dist-packages (from kaggle) (2.32.3)\n",
            "Requirement already satisfied: setuptools>=21.0.0 in /usr/local/lib/python3.11/dist-packages (from kaggle) (75.1.0)\n",
            "Requirement already satisfied: six>=1.10 in /usr/local/lib/python3.11/dist-packages (from kaggle) (1.17.0)\n",
            "Requirement already satisfied: text-unidecode in /usr/local/lib/python3.11/dist-packages (from kaggle) (1.3)\n",
            "Requirement already satisfied: tqdm in /usr/local/lib/python3.11/dist-packages (from kaggle) (4.67.1)\n",
            "Requirement already satisfied: urllib3>=1.15.1 in /usr/local/lib/python3.11/dist-packages (from kaggle) (2.3.0)\n",
            "Requirement already satisfied: webencodings in /usr/local/lib/python3.11/dist-packages (from kaggle) (0.5.1)\n",
            "mkdir: cannot create directory ‘/root/.kaggle’: File exists\n",
            "Dataset URL: https://www.kaggle.com/datasets/mlg-ulb/creditcardfraud\n",
            "License(s): DbCL-1.0\n",
            "Archive:  creditcardfraud.zip\n",
            "  inflating: creditcard.csv          \n"
          ]
        }
      ],
      "source": [
        "!pip install kaggle\n",
        "!mkdir ~/.kaggle\n",
        "!cp kaggle.json ~/.kaggle/\n",
        "!chmod 600 ~/.kaggle/kaggle.json\n",
        "!kaggle datasets download -d mlg-ulb/creditcardfraud\n",
        "!unzip creditcardfraud.zip"
      ]
    },
    {
      "cell_type": "code",
      "source": [
        "import torch\n",
        "import torch.nn as nn\n",
        "import torch.optim as optim\n",
        "import pandas as pd\n",
        "import numpy as np\n",
        "import seaborn as sns\n",
        "import matplotlib.pyplot as plt\n",
        "from sklearn.model_selection import train_test_split\n",
        "from sklearn.preprocessing import StandardScaler\n",
        "from sklearn.metrics import classification_report, confusion_matrix, roc_curve, auc\n",
        "from torch.utils.data import Dataset, DataLoader, WeightedRandomSampler\n"
      ],
      "metadata": {
        "id": "CtsCaxmg9zL8"
      },
      "execution_count": 5,
      "outputs": []
    },
    {
      "cell_type": "code",
      "source": [
        "df = pd.read_csv(\"creditcard.csv\")\n",
        "\n",
        "X = df.drop(columns=[\"Class\"]).values\n",
        "y = df[\"Class\"].values\n",
        "\n",
        "scaler = StandardScaler()\n",
        "X = scaler.fit_transform(X)\n",
        "\n",
        "X_train, X_test, y_train, y_test = train_test_split(X, y, test_size=0.2, stratify=y, random_state=42)\n",
        "\n",
        "X_train_tensor = torch.tensor(X_train, dtype=torch.float32)\n",
        "y_train_tensor = torch.tensor(y_train, dtype=torch.long)\n",
        "X_test_tensor = torch.tensor(X_test, dtype=torch.float32)\n",
        "y_test_tensor = torch.tensor(y_test, dtype=torch.long)"
      ],
      "metadata": {
        "id": "OnHVa-Zu90kq"
      },
      "execution_count": 6,
      "outputs": []
    },
    {
      "cell_type": "code",
      "source": [
        "class FraudDataset(Dataset):\n",
        "    def __init__(self, X, y):\n",
        "        self.X = X\n",
        "        self.y = y\n",
        "\n",
        "    def __len__(self):\n",
        "        return len(self.y)\n",
        "\n",
        "    def __getitem__(self, index):\n",
        "        return self.X[index], self.y[index]\n"
      ],
      "metadata": {
        "id": "-gpJWd_x96zT"
      },
      "execution_count": 7,
      "outputs": []
    },
    {
      "cell_type": "code",
      "source": [
        "train_dataset = FraudDataset(X_train_tensor, y_train_tensor)\n",
        "test_dataset = FraudDataset(X_test_tensor, y_test_tensor)\n",
        "\n",
        "class_counts = np.bincount(y_train)\n",
        "class_weights = 1.0 / class_counts\n",
        "weights = class_weights[y_train]\n",
        "\n",
        "sampler = WeightedRandomSampler(weights, len(weights), replacement=True)\n",
        "\n",
        "batch_size = 32\n",
        "train_loader = DataLoader(train_dataset, batch_size=batch_size, sampler=sampler)\n",
        "test_loader = DataLoader(test_dataset, batch_size=batch_size, shuffle=False)\n"
      ],
      "metadata": {
        "id": "C6iZWzpS9_Kh"
      },
      "execution_count": 8,
      "outputs": []
    },
    {
      "cell_type": "code",
      "source": [
        "class FraudDetector(nn.Module):\n",
        "    def __init__(self, input_dim):\n",
        "        super(FraudDetector, self).__init__()\n",
        "        self.fc = nn.Sequential(\n",
        "            nn.Linear(input_dim, 128),\n",
        "            nn.ReLU(),\n",
        "            nn.Dropout(0.5),\n",
        "            nn.Linear(128, 64),\n",
        "            nn.ReLU(),\n",
        "            nn.Linear(64, 2)\n",
        "        )\n",
        "\n",
        "    def forward(self, x):\n",
        "        return self.fc(x)\n",
        "\n",
        "\n",
        "device = torch.device(\"cuda\" if torch.cuda.is_available() else \"cpu\")\n",
        "model = FraudDetector(input_dim=X_train.shape[1]).to(device)\n",
        "\n",
        "class_weights_tensor = torch.tensor(class_weights, dtype=torch.float32).to(device)\n",
        "criterion = nn.CrossEntropyLoss(weight=class_weights_tensor)\n",
        "optimizer = optim.Adam(model.parameters(), lr=0.001)\n"
      ],
      "metadata": {
        "id": "jSCi_gYT-GJe"
      },
      "execution_count": 9,
      "outputs": []
    },
    {
      "cell_type": "code",
      "source": [
        "num_epochs = 20\n",
        "train_loss_list, train_acc_list, test_acc_list = [], [], []\n",
        "\n",
        "for epoch in range(num_epochs):\n",
        "    model.train()\n",
        "    running_loss, correct_train, total_train = 0.0, 0, 0\n",
        "\n",
        "    for X_batch, y_batch in train_loader:\n",
        "        X_batch, y_batch = X_batch.to(device), y_batch.to(device)\n",
        "\n",
        "        optimizer.zero_grad()\n",
        "        outputs = model(X_batch)\n",
        "        loss = criterion(outputs, y_batch)\n",
        "        loss.backward()\n",
        "        optimizer.step()\n",
        "\n",
        "        running_loss += loss.item()\n",
        "        _, predicted = torch.max(outputs, 1)\n",
        "        total_train += y_batch.size(0)\n",
        "        correct_train += (predicted == y_batch).sum().item()\n",
        "\n",
        "    avg_train_loss = running_loss / len(train_loader)\n",
        "    train_loss_list.append(avg_train_loss)\n",
        "\n",
        "    train_acc = 100 * correct_train / total_train\n",
        "    train_acc_list.append(train_acc)\n",
        "\n",
        "    print(f\"Epoch [{epoch+1}/{num_epochs}] -> Train Loss: {avg_train_loss:.4f}, Train Acc: {train_acc:.2f}%\")\n"
      ],
      "metadata": {
        "colab": {
          "base_uri": "https://localhost:8080/"
        },
        "id": "KxotpM7b-V7J",
        "outputId": "8642c21e-3698-4854-c52d-47a1fdef6786"
      },
      "execution_count": 10,
      "outputs": [
        {
          "output_type": "stream",
          "name": "stdout",
          "text": [
            "Epoch [1/20] -> Train Loss: 0.0048, Train Acc: 77.99%\n",
            "Epoch [2/20] -> Train Loss: 0.0013, Train Acc: 93.84%\n",
            "Epoch [3/20] -> Train Loss: 0.0011, Train Acc: 96.02%\n",
            "Epoch [4/20] -> Train Loss: 0.0006, Train Acc: 97.13%\n",
            "Epoch [5/20] -> Train Loss: 0.0005, Train Acc: 98.06%\n",
            "Epoch [6/20] -> Train Loss: 0.0007, Train Acc: 98.08%\n",
            "Epoch [7/20] -> Train Loss: 0.0004, Train Acc: 98.65%\n",
            "Epoch [8/20] -> Train Loss: 0.0004, Train Acc: 98.76%\n",
            "Epoch [9/20] -> Train Loss: 0.0004, Train Acc: 98.69%\n",
            "Epoch [10/20] -> Train Loss: 0.0005, Train Acc: 98.83%\n",
            "Epoch [11/20] -> Train Loss: 0.0007, Train Acc: 98.82%\n",
            "Epoch [12/20] -> Train Loss: 0.0004, Train Acc: 98.94%\n",
            "Epoch [13/20] -> Train Loss: 0.0006, Train Acc: 98.66%\n",
            "Epoch [14/20] -> Train Loss: 0.0004, Train Acc: 98.78%\n",
            "Epoch [15/20] -> Train Loss: 0.0004, Train Acc: 98.94%\n",
            "Epoch [16/20] -> Train Loss: 0.0005, Train Acc: 98.81%\n",
            "Epoch [17/20] -> Train Loss: 0.0003, Train Acc: 99.36%\n",
            "Epoch [18/20] -> Train Loss: 0.0005, Train Acc: 98.96%\n",
            "Epoch [19/20] -> Train Loss: 0.0004, Train Acc: 99.10%\n",
            "Epoch [20/20] -> Train Loss: 0.0007, Train Acc: 98.79%\n"
          ]
        }
      ]
    },
    {
      "cell_type": "code",
      "source": [
        "model.eval()\n",
        "y_true, y_pred, y_probs = [], [], []\n",
        "correct_test, total_test = 0, 0\n",
        "\n",
        "with torch.no_grad():\n",
        "    for X_batch, y_batch in test_loader:\n",
        "        X_batch, y_batch = X_batch.to(device), y_batch.to(device)\n",
        "        outputs = model(X_batch)\n",
        "        _, predicted = torch.max(outputs, 1)\n",
        "        probs = torch.softmax(outputs, dim=1)[:, 1]  # Probability of class 1 (Fraud)\n",
        "\n",
        "        y_true.extend(y_batch.cpu().numpy())\n",
        "        y_pred.extend(predicted.cpu().numpy())\n",
        "        y_probs.extend(probs.cpu().numpy())\n",
        "\n",
        "        total_test += y_batch.size(0)\n",
        "        correct_test += (predicted == y_batch).sum().item()\n",
        "\n",
        "test_acc = 100 * correct_test / total_test\n",
        "test_acc_list.append(test_acc)\n",
        "print(f\"Test Accuracy: {test_acc:.2f}%\")\n"
      ],
      "metadata": {
        "colab": {
          "base_uri": "https://localhost:8080/"
        },
        "id": "TjBLi2HC-Y1h",
        "outputId": "ad5bfa3f-017e-4dd7-b68f-d87e83b99dd1"
      },
      "execution_count": 11,
      "outputs": [
        {
          "output_type": "stream",
          "name": "stdout",
          "text": [
            "Test Accuracy: 99.36%\n"
          ]
        }
      ]
    },
    {
      "cell_type": "code",
      "source": [
        "print(\"\\nClassification Report:\\n\", classification_report(y_true, y_pred, digits=4))\n",
        "\n",
        "conf_matrix = confusion_matrix(y_true, y_pred)\n",
        "plt.figure(figsize=(6, 5))\n",
        "sns.heatmap(conf_matrix, annot=True, fmt=\"d\", cmap=\"Blues\", xticklabels=[\"No Fraud\", \"Fraud\"], yticklabels=[\"No Fraud\", \"Fraud\"])\n",
        "plt.xlabel(\"Predicted\")\n",
        "plt.ylabel(\"Actual\")\n",
        "plt.title(\"Confusion Matrix\")\n",
        "plt.show()\n",
        "\n",
        "fpr, tpr, _ = roc_curve(y_true, y_probs)\n",
        "roc_auc = auc(fpr, tpr)\n",
        "\n",
        "plt.figure(figsize=(6, 5))\n",
        "plt.plot(fpr, tpr, color=\"blue\", lw=2, label=f\"AUC = {roc_auc:.4f}\")\n",
        "plt.plot([0, 1], [0, 1], color=\"gray\", linestyle=\"--\")\n",
        "plt.xlabel(\"False Positive Rate\")\n",
        "plt.ylabel(\"True Positive Rate\")\n",
        "plt.title(\"ROC Curve\")\n",
        "plt.legend(loc=\"lower right\")\n",
        "plt.show()"
      ],
      "metadata": {
        "colab": {
          "base_uri": "https://localhost:8080/",
          "height": 1000
        },
        "id": "QwuXlq5r-be7",
        "outputId": "651f757a-65af-4212-b6b1-03b077e197b4"
      },
      "execution_count": 12,
      "outputs": [
        {
          "output_type": "stream",
          "name": "stdout",
          "text": [
            "\n",
            "Classification Report:\n",
            "               precision    recall  f1-score   support\n",
            "\n",
            "           0     0.9998    0.9938    0.9968     56864\n",
            "           1     0.1968    0.8776    0.3215        98\n",
            "\n",
            "    accuracy                         0.9936     56962\n",
            "   macro avg     0.5983    0.9357    0.6591     56962\n",
            "weighted avg     0.9984    0.9936    0.9956     56962\n",
            "\n"
          ]
        },
        {
          "output_type": "display_data",
          "data": {
            "text/plain": [
              "<Figure size 600x500 with 2 Axes>"
            ],
            "image/png": "[encoded data removed]"
          },
          "metadata": {}
        },
        {
          "output_type": "display_data",
          "data": {
            "text/plain": [
              "<Figure size 600x500 with 1 Axes>"
            ],
            "image/png": "[encoded data removed]"
          },
          "metadata": {}
        }
      ]
    }
  ]
}